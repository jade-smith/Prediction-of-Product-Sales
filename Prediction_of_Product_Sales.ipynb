{
  "nbformat": 4,
  "nbformat_minor": 0,
  "metadata": {
    "colab": {
      "provenance": [],
      "authorship_tag": "ABX9TyMBK+aKPUGGyTPtV90aC0Lj",
      "include_colab_link": true
    },
    "kernelspec": {
      "name": "python3",
      "display_name": "Python 3"
    },
    "language_info": {
      "name": "python"
    }
  },
  "cells": [
    {
      "cell_type": "markdown",
      "metadata": {
        "id": "view-in-github",
        "colab_type": "text"
      },
      "source": [
        "<a href=\"https://colab.research.google.com/github/jade-smith/Prediction-of-Product-Sales/blob/main/Prediction_of_Product_Sales.ipynb\" target=\"_parent\"><img src=\"https://colab.research.google.com/assets/colab-badge.svg\" alt=\"Open In Colab\"/></a>"
      ]
    },
    {
      "cell_type": "markdown",
      "source": [
        "# Prediction of Product Sales\n"
      ],
      "metadata": {
        "id": "LtlVFs7mWdNe"
      }
    },
    {
      "cell_type": "markdown",
      "source": [
        "- Author: Jade Smith"
      ],
      "metadata": {
        "id": "RRbY_j2-Wpm4"
      }
    },
    {
      "cell_type": "markdown",
      "source": [
        "## Project Overview"
      ],
      "metadata": {
        "id": "9x8lawGAWxDK"
      }
    },
    {
      "cell_type": "markdown",
      "source": [
        "## Load and Inspect Data"
      ],
      "metadata": {
        "id": "knVqo-InW13S"
      }
    },
    {
      "cell_type": "code",
      "source": [],
      "metadata": {
        "id": "mIa3g11eXU8v"
      },
      "execution_count": null,
      "outputs": []
    },
    {
      "cell_type": "markdown",
      "source": [
        "## Clean Data"
      ],
      "metadata": {
        "id": "1nkDlvQBW6DU"
      }
    },
    {
      "cell_type": "code",
      "source": [],
      "metadata": {
        "id": "_HPlg_TkXVkF"
      },
      "execution_count": null,
      "outputs": []
    },
    {
      "cell_type": "markdown",
      "source": [
        "## Exploratory Data Analysis"
      ],
      "metadata": {
        "id": "mN0GxcDJW9VP"
      }
    },
    {
      "cell_type": "code",
      "source": [],
      "metadata": {
        "id": "PK8GJbESXV9_"
      },
      "execution_count": null,
      "outputs": []
    },
    {
      "cell_type": "markdown",
      "source": [
        "## Feature Inspection"
      ],
      "metadata": {
        "id": "_dGX0RqRXD5p"
      }
    },
    {
      "cell_type": "code",
      "source": [],
      "metadata": {
        "id": "_EjK2s2QXWjr"
      },
      "execution_count": null,
      "outputs": []
    }
  ]
}