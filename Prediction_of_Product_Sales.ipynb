{
  "nbformat": 4,
  "nbformat_minor": 0,
  "metadata": {
    "colab": {
      "provenance": [],
      "authorship_tag": "ABX9TyPMe//rH+YMzftJG3IybEnu",
      "include_colab_link": true
    },
    "kernelspec": {
      "name": "python3",
      "display_name": "Python 3"
    },
    "language_info": {
      "name": "python"
    }
  },
  "cells": [
    {
      "cell_type": "markdown",
      "metadata": {
        "id": "view-in-github",
        "colab_type": "text"
      },
      "source": [
        "<a href=\"https://colab.research.google.com/github/jade-smith/Prediction-of-Product-Sales/blob/main/Prediction_of_Product_Sales.ipynb\" target=\"_parent\"><img src=\"https://colab.research.google.com/assets/colab-badge.svg\" alt=\"Open In Colab\"/></a>"
      ]
    },
    {
      "cell_type": "code",
      "execution_count": null,
      "metadata": {
        "id": "aDiUhyOyU25o"
      },
      "outputs": [],
      "source": [
        "# Prediction of Product Sales"
      ]
    },
    {
      "cell_type": "code",
      "source": [
        "\"-\" Author: Jade Smith"
      ],
      "metadata": {
        "id": "VQ4mJjhTVUij"
      },
      "execution_count": null,
      "outputs": []
    },
    {
      "cell_type": "code",
      "source": [
        "## Project Overview"
      ],
      "metadata": {
        "id": "eHBDDYOCVWt5"
      },
      "execution_count": null,
      "outputs": []
    },
    {
      "cell_type": "code",
      "source": [
        "## Load and Inspect Data"
      ],
      "metadata": {
        "id": "qdGmrk_XVmEg"
      },
      "execution_count": null,
      "outputs": []
    },
    {
      "cell_type": "code",
      "source": [
        "## Clean Data"
      ],
      "metadata": {
        "id": "BeUTvUWEVpyW"
      },
      "execution_count": null,
      "outputs": []
    },
    {
      "cell_type": "code",
      "source": [
        "## Exploratory Data Analysis"
      ],
      "metadata": {
        "id": "3_fkY4LPVsI1"
      },
      "execution_count": null,
      "outputs": []
    },
    {
      "cell_type": "code",
      "source": [
        "## Feature Inspection"
      ],
      "metadata": {
        "id": "Dr-brkWcVxe0"
      },
      "execution_count": null,
      "outputs": []
    }
  ]
}